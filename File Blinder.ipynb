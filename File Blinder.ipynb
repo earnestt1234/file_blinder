{
 "cells": [
  {
   "cell_type": "markdown",
   "metadata": {},
   "source": [
    "# File Blinder\n",
    "\n",
    "## 10/19/18\n",
    "\n",
    "\n",
    "Defines a function `blind()` for directories; `blind()` copies all files into a new directory and renames them with a random 3 digit number.  A key (`key.csv`) is saved in the new directory for unblinding.  To use:\n",
    "\n",
    "1.  Run the scirpt to define blind()\n",
    "2.  Run the function on your directory and file extension"
   ]
  },
  {
   "cell_type": "code",
   "execution_count": 1,
   "metadata": {},
   "outputs": [],
   "source": [
    "#imports the necessary packages\n",
    "\n",
    "import os\n",
    "import random\n",
    "import numpy as np\n",
    "import pandas as pd\n",
    "import shutil\n",
    "\n",
    "#defines the function\n",
    "\n",
    "def blind(directory, ext):\n",
    "    \n",
    "    #moves into the directory containing the folder with the data\n",
    "    os.chdir(os.path.dirname(your_directory))\n",
    "    \n",
    "    # creates new destination directory for renamed files, while loop avoids identical names (allows\n",
    "    # for mutiple randomizations)\n",
    "    \n",
    "    g = 1\n",
    "    newdir = str(directory) + \" blinded\"\n",
    "    while os.path.exists(newdir):\n",
    "        newdir = str(directory) + \" blinded \" + str(g)\n",
    "        g+=1\n",
    "    os.makedirs(newdir)\n",
    "    \n",
    "    # copies files into newdir (see https://stackoverflow.com/questions/3397752/copy-multiple-files-in-python)\n",
    "    \n",
    "    src_files = os.listdir(directory)\n",
    "    for name in src_files:\n",
    "        fullname = os.path.join(directory, name)\n",
    "        if (os.path.isfile(fullname)):\n",
    "            shutil.copy(fullname, newdir) \n",
    "        \n",
    "    # makes key.csv from a DataFrame with the old file names in the 1st col, new names in 2nd\n",
    "    \n",
    "    oldnames = []\n",
    "    rands = random.sample(range(100,1000),len(os.listdir(newdir)))\n",
    "    #^ samples numbers from 100-999 randomly (without replacement), takes as many as there are \n",
    "    #files in the directory\n",
    "    for filename in os.listdir(newdir):\n",
    "        oldnames.append(filename)\n",
    "    oldnamespd = pd.DataFrame(oldnames)\n",
    "    oldnamespd[\"new\"] = rands\n",
    "    oldnamespd.columns =  [\"old\",\"new\"]\n",
    "    oldnamespd.to_csv(\"key.csv\")\n",
    "    \n",
    "    # renames the files in the new directory (see https://stackoverflow.com/questions/35443278/filenotfounderror-winerror-2-the-system-cannot-find-the-file-specified)\n",
    "    i=0 \n",
    "    for name in os.listdir(newdir):\n",
    "        os.rename(os.path.join(newdir,name), \n",
    "                  os.path.join(newdir,str(rands[i])+ext))\n",
    "        i+=1\n",
    "        \n",
    "    # moves key into the directory\n",
    "    shutil.move(\"key.csv\",newdir)"
   ]
  },
  {
   "cell_type": "code",
   "execution_count": 2,
   "metadata": {},
   "outputs": [],
   "source": [
    "your_directory = r'C:\\Users\\earne\\Desktop\\test'\n",
    "your_extension = '.txt'\n",
    "\n",
    "blind(your_directory, your_extension)"
   ]
  }
 ],
 "metadata": {
  "kernelspec": {
   "display_name": "Python 3",
   "language": "python",
   "name": "python3"
  },
  "language_info": {
   "codemirror_mode": {
    "name": "ipython",
    "version": 3
   },
   "file_extension": ".py",
   "mimetype": "text/x-python",
   "name": "python",
   "nbconvert_exporter": "python",
   "pygments_lexer": "ipython3",
   "version": "3.7.3"
  }
 },
 "nbformat": 4,
 "nbformat_minor": 2
}
